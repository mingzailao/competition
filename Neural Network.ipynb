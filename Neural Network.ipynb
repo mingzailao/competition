{
 "cells": [
  {
   "cell_type": "code",
   "execution_count": 9,
   "metadata": {
    "collapsed": false
   },
   "outputs": [],
   "source": [
    "import keras\n",
    "from keras.models import Sequential,Model\n",
    "from keras.layers import Dense, Activation,Dropout,Input\n",
    "from sklearn import cross_validation\n",
    "\n"
   ]
  },
  {
   "cell_type": "markdown",
   "metadata": {},
   "source": [
    "# Read data from store.h5"
   ]
  },
  {
   "cell_type": "code",
   "execution_count": 2,
   "metadata": {
    "collapsed": false
   },
   "outputs": [],
   "source": [
    "import pandas as pd\n",
    "store = pd.HDFStore('store.h5')"
   ]
  },
  {
   "cell_type": "markdown",
   "metadata": {},
   "source": [
    "# print the item in store"
   ]
  },
  {
   "cell_type": "code",
   "execution_count": 3,
   "metadata": {
    "collapsed": false
   },
   "outputs": [
    {
     "name": "stdout",
     "output_type": "stream",
     "text": [
      "<bound method HDFStore.items of <class 'pandas.io.pytables.HDFStore'>\n",
      "File path: store.h5\n",
      "/data                   frame        (shape->[1000,9443]) \n",
      "/gene_info              frame        (shape->[300,9443])  \n",
      "/label                  frame        (shape->[1000,1])    \n",
      "/onehot_data            frame        (shape->[1000,28329])>\n"
     ]
    }
   ],
   "source": [
    "print store.items"
   ]
  },
  {
   "cell_type": "code",
   "execution_count": 4,
   "metadata": {
    "collapsed": true
   },
   "outputs": [],
   "source": [
    "data=store['onehot_data']\n",
    "label=store['label']\n"
   ]
  },
  {
   "cell_type": "markdown",
   "metadata": {},
   "source": [
    "# Close the store.h5"
   ]
  },
  {
   "cell_type": "code",
   "execution_count": 5,
   "metadata": {
    "collapsed": false
   },
   "outputs": [],
   "source": [
    "store.close()"
   ]
  },
  {
   "cell_type": "code",
   "execution_count": 6,
   "metadata": {
    "collapsed": false
   },
   "outputs": [
    {
     "data": {
      "text/html": [
       "<div>\n",
       "<table border=\"1\" class=\"dataframe\">\n",
       "  <thead>\n",
       "    <tr style=\"text-align: right;\">\n",
       "      <th></th>\n",
       "      <th>0</th>\n",
       "      <th>1</th>\n",
       "      <th>2</th>\n",
       "      <th>3</th>\n",
       "      <th>4</th>\n",
       "      <th>5</th>\n",
       "      <th>6</th>\n",
       "      <th>7</th>\n",
       "      <th>8</th>\n",
       "      <th>9</th>\n",
       "      <th>...</th>\n",
       "      <th>28319</th>\n",
       "      <th>28320</th>\n",
       "      <th>28321</th>\n",
       "      <th>28322</th>\n",
       "      <th>28323</th>\n",
       "      <th>28324</th>\n",
       "      <th>28325</th>\n",
       "      <th>28326</th>\n",
       "      <th>28327</th>\n",
       "      <th>28328</th>\n",
       "    </tr>\n",
       "  </thead>\n",
       "  <tbody>\n",
       "    <tr>\n",
       "      <th>0</th>\n",
       "      <td>1.0</td>\n",
       "      <td>0.0</td>\n",
       "      <td>0.0</td>\n",
       "      <td>0.0</td>\n",
       "      <td>1.0</td>\n",
       "      <td>0.0</td>\n",
       "      <td>0.0</td>\n",
       "      <td>0.0</td>\n",
       "      <td>1.0</td>\n",
       "      <td>0.0</td>\n",
       "      <td>...</td>\n",
       "      <td>0.0</td>\n",
       "      <td>0.0</td>\n",
       "      <td>1.0</td>\n",
       "      <td>0.0</td>\n",
       "      <td>1.0</td>\n",
       "      <td>0.0</td>\n",
       "      <td>0.0</td>\n",
       "      <td>0.0</td>\n",
       "      <td>1.0</td>\n",
       "      <td>0.0</td>\n",
       "    </tr>\n",
       "    <tr>\n",
       "      <th>1</th>\n",
       "      <td>0.0</td>\n",
       "      <td>1.0</td>\n",
       "      <td>0.0</td>\n",
       "      <td>0.0</td>\n",
       "      <td>1.0</td>\n",
       "      <td>0.0</td>\n",
       "      <td>0.0</td>\n",
       "      <td>1.0</td>\n",
       "      <td>0.0</td>\n",
       "      <td>0.0</td>\n",
       "      <td>...</td>\n",
       "      <td>0.0</td>\n",
       "      <td>0.0</td>\n",
       "      <td>1.0</td>\n",
       "      <td>0.0</td>\n",
       "      <td>0.0</td>\n",
       "      <td>1.0</td>\n",
       "      <td>0.0</td>\n",
       "      <td>0.0</td>\n",
       "      <td>0.0</td>\n",
       "      <td>1.0</td>\n",
       "    </tr>\n",
       "    <tr>\n",
       "      <th>2</th>\n",
       "      <td>1.0</td>\n",
       "      <td>0.0</td>\n",
       "      <td>0.0</td>\n",
       "      <td>1.0</td>\n",
       "      <td>0.0</td>\n",
       "      <td>0.0</td>\n",
       "      <td>0.0</td>\n",
       "      <td>0.0</td>\n",
       "      <td>1.0</td>\n",
       "      <td>0.0</td>\n",
       "      <td>...</td>\n",
       "      <td>0.0</td>\n",
       "      <td>0.0</td>\n",
       "      <td>1.0</td>\n",
       "      <td>0.0</td>\n",
       "      <td>0.0</td>\n",
       "      <td>1.0</td>\n",
       "      <td>0.0</td>\n",
       "      <td>0.0</td>\n",
       "      <td>1.0</td>\n",
       "      <td>0.0</td>\n",
       "    </tr>\n",
       "    <tr>\n",
       "      <th>3</th>\n",
       "      <td>1.0</td>\n",
       "      <td>0.0</td>\n",
       "      <td>0.0</td>\n",
       "      <td>0.0</td>\n",
       "      <td>0.0</td>\n",
       "      <td>1.0</td>\n",
       "      <td>0.0</td>\n",
       "      <td>0.0</td>\n",
       "      <td>1.0</td>\n",
       "      <td>0.0</td>\n",
       "      <td>...</td>\n",
       "      <td>0.0</td>\n",
       "      <td>1.0</td>\n",
       "      <td>0.0</td>\n",
       "      <td>0.0</td>\n",
       "      <td>0.0</td>\n",
       "      <td>1.0</td>\n",
       "      <td>0.0</td>\n",
       "      <td>0.0</td>\n",
       "      <td>0.0</td>\n",
       "      <td>1.0</td>\n",
       "    </tr>\n",
       "    <tr>\n",
       "      <th>4</th>\n",
       "      <td>0.0</td>\n",
       "      <td>1.0</td>\n",
       "      <td>0.0</td>\n",
       "      <td>0.0</td>\n",
       "      <td>1.0</td>\n",
       "      <td>0.0</td>\n",
       "      <td>0.0</td>\n",
       "      <td>1.0</td>\n",
       "      <td>0.0</td>\n",
       "      <td>1.0</td>\n",
       "      <td>...</td>\n",
       "      <td>0.0</td>\n",
       "      <td>0.0</td>\n",
       "      <td>1.0</td>\n",
       "      <td>0.0</td>\n",
       "      <td>0.0</td>\n",
       "      <td>1.0</td>\n",
       "      <td>0.0</td>\n",
       "      <td>0.0</td>\n",
       "      <td>1.0</td>\n",
       "      <td>0.0</td>\n",
       "    </tr>\n",
       "  </tbody>\n",
       "</table>\n",
       "<p>5 rows × 28329 columns</p>\n",
       "</div>"
      ],
      "text/plain": [
       "   0      1      2      3      4      5      6      7      8      9      \\\n",
       "0    1.0    0.0    0.0    0.0    1.0    0.0    0.0    0.0    1.0    0.0   \n",
       "1    0.0    1.0    0.0    0.0    1.0    0.0    0.0    1.0    0.0    0.0   \n",
       "2    1.0    0.0    0.0    1.0    0.0    0.0    0.0    0.0    1.0    0.0   \n",
       "3    1.0    0.0    0.0    0.0    0.0    1.0    0.0    0.0    1.0    0.0   \n",
       "4    0.0    1.0    0.0    0.0    1.0    0.0    0.0    1.0    0.0    1.0   \n",
       "\n",
       "   ...    28319  28320  28321  28322  28323  28324  28325  28326  28327  28328  \n",
       "0  ...      0.0    0.0    1.0    0.0    1.0    0.0    0.0    0.0    1.0    0.0  \n",
       "1  ...      0.0    0.0    1.0    0.0    0.0    1.0    0.0    0.0    0.0    1.0  \n",
       "2  ...      0.0    0.0    1.0    0.0    0.0    1.0    0.0    0.0    1.0    0.0  \n",
       "3  ...      0.0    1.0    0.0    0.0    0.0    1.0    0.0    0.0    0.0    1.0  \n",
       "4  ...      0.0    0.0    1.0    0.0    0.0    1.0    0.0    0.0    1.0    0.0  \n",
       "\n",
       "[5 rows x 28329 columns]"
      ]
     },
     "execution_count": 6,
     "metadata": {},
     "output_type": "execute_result"
    }
   ],
   "source": [
    "data.head()"
   ]
  },
  {
   "cell_type": "markdown",
   "metadata": {},
   "source": [
    "# seperate the data"
   ]
  },
  {
   "cell_type": "code",
   "execution_count": 7,
   "metadata": {
    "collapsed": true
   },
   "outputs": [],
   "source": [
    "from sklearn.preprocessing import OneHotEncoder\n",
    "enc = OneHotEncoder()\n",
    "enc.fit(label)\n",
    "target=enc.transform(label).toarray()"
   ]
  },
  {
   "cell_type": "markdown",
   "metadata": {},
   "source": [
    "## use sklearn.cross_validation.train_test_split"
   ]
  },
  {
   "cell_type": "code",
   "execution_count": 8,
   "metadata": {
    "collapsed": true
   },
   "outputs": [],
   "source": [
    "X_train, X_test, y_train, y_test = cross_validation.train_test_split(data,target, test_size=0.3, random_state=0)"
   ]
  },
  {
   "cell_type": "markdown",
   "metadata": {},
   "source": [
    "# Use Auto-Encoder"
   ]
  },
  {
   "cell_type": "code",
   "execution_count": 12,
   "metadata": {
    "collapsed": false
   },
   "outputs": [
    {
     "name": "stdout",
     "output_type": "stream",
     "text": [
      "Train on 700 samples, validate on 300 samples\n",
      "Epoch 1/100\n",
      "700/700 [==============================] - 21s - loss: 0.6934 - val_loss: 0.6931\n",
      "Epoch 2/100\n",
      "700/700 [==============================] - 21s - loss: 0.6929 - val_loss: 0.6926\n",
      "Epoch 3/100\n",
      "700/700 [==============================] - 22s - loss: 0.6925 - val_loss: 0.6921\n",
      "Epoch 4/100\n",
      "700/700 [==============================] - 22s - loss: 0.6919 - val_loss: 0.6915\n",
      "Epoch 5/100\n",
      "700/700 [==============================] - 22s - loss: 0.6912 - val_loss: 0.6905\n",
      "Epoch 6/100\n",
      "700/700 [==============================] - 22s - loss: 0.6901 - val_loss: 0.6889\n",
      "Epoch 7/100\n",
      "700/700 [==============================] - 22s - loss: 0.6882 - val_loss: 0.6862\n",
      "Epoch 8/100\n",
      "700/700 [==============================] - 22s - loss: 0.6849 - val_loss: 0.6812\n",
      "Epoch 9/100\n",
      "700/700 [==============================] - 22s - loss: 0.6788 - val_loss: 0.6719\n",
      "Epoch 10/100\n",
      "700/700 [==============================] - 22s - loss: 0.6672 - val_loss: 0.6544\n",
      "Epoch 11/100\n",
      "700/700 [==============================] - 22s - loss: 0.6463 - val_loss: 0.6258\n",
      "Epoch 12/100\n",
      "700/700 [==============================] - 22s - loss: 0.6149 - val_loss: 0.5908\n",
      "Epoch 13/100\n",
      "700/700 [==============================] - 22s - loss: 0.5805 - val_loss: 0.5612\n",
      "Epoch 14/100\n",
      "700/700 [==============================] - 22s - loss: 0.5543 - val_loss: 0.5438\n",
      "Epoch 15/100\n",
      "700/700 [==============================] - 22s - loss: 0.5400 - val_loss: 0.5359\n",
      "Epoch 16/100\n",
      "700/700 [==============================] - 22s - loss: 0.5337 - val_loss: 0.5326\n",
      "Epoch 17/100\n",
      "700/700 [==============================] - 22s - loss: 0.5311 - val_loss: 0.5312\n",
      "Epoch 18/100\n",
      "700/700 [==============================] - 23s - loss: 0.5299 - val_loss: 0.5305\n",
      "Epoch 19/100\n",
      "700/700 [==============================] - 23s - loss: 0.5293 - val_loss: 0.5301\n",
      "Epoch 20/100\n",
      "700/700 [==============================] - 22s - loss: 0.5290 - val_loss: 0.5299\n",
      "Epoch 21/100\n",
      "700/700 [==============================] - 23s - loss: 0.5288 - val_loss: 0.5297\n",
      "Epoch 22/100\n",
      "700/700 [==============================] - 23s - loss: 0.5287 - val_loss: 0.5296\n",
      "Epoch 23/100\n",
      "700/700 [==============================] - 23s - loss: 0.5286 - val_loss: 0.5296\n",
      "Epoch 24/100\n",
      "700/700 [==============================] - 23s - loss: 0.5285 - val_loss: 0.5295\n",
      "Epoch 25/100\n",
      "700/700 [==============================] - 23s - loss: 0.5285 - val_loss: 0.5295\n",
      "Epoch 26/100\n",
      "700/700 [==============================] - 23s - loss: 0.5284 - val_loss: 0.5295\n",
      "Epoch 27/100\n",
      "700/700 [==============================] - 23s - loss: 0.5284 - val_loss: 0.5294\n",
      "Epoch 28/100\n",
      "700/700 [==============================] - 23s - loss: 0.5284 - val_loss: 0.5294\n",
      "Epoch 29/100\n",
      "700/700 [==============================] - 23s - loss: 0.5284 - val_loss: 0.5294\n",
      "Epoch 30/100\n",
      "700/700 [==============================] - 23s - loss: 0.5284 - val_loss: 0.5294\n",
      "Epoch 31/100\n",
      "700/700 [==============================] - 23s - loss: 0.5283 - val_loss: 0.5294\n",
      "Epoch 32/100\n",
      "700/700 [==============================] - 23s - loss: 0.5283 - val_loss: 0.5294\n",
      "Epoch 33/100\n",
      "700/700 [==============================] - 23s - loss: 0.5283 - val_loss: 0.5294\n",
      "Epoch 34/100\n",
      "700/700 [==============================] - 23s - loss: 0.5283 - val_loss: 0.5294\n",
      "Epoch 35/100\n",
      "700/700 [==============================] - 23s - loss: 0.5283 - val_loss: 0.5294\n",
      "Epoch 36/100\n",
      "700/700 [==============================] - 23s - loss: 0.5283 - val_loss: 0.5294\n",
      "Epoch 37/100\n",
      "700/700 [==============================] - 23s - loss: 0.5283 - val_loss: 0.5294\n",
      "Epoch 38/100\n",
      "700/700 [==============================] - 23s - loss: 0.5283 - val_loss: 0.5294\n",
      "Epoch 39/100\n",
      "700/700 [==============================] - 23s - loss: 0.5283 - val_loss: 0.5294\n",
      "Epoch 40/100\n",
      "700/700 [==============================] - 23s - loss: 0.5283 - val_loss: 0.5294\n",
      "Epoch 41/100\n",
      "700/700 [==============================] - 23s - loss: 0.5283 - val_loss: 0.5294\n",
      "Epoch 42/100\n",
      "700/700 [==============================] - 23s - loss: 0.5283 - val_loss: 0.5294\n",
      "Epoch 43/100\n",
      "700/700 [==============================] - 23s - loss: 0.5283 - val_loss: 0.5294\n",
      "Epoch 44/100\n",
      "700/700 [==============================] - 23s - loss: 0.5283 - val_loss: 0.5294\n",
      "Epoch 45/100\n",
      "700/700 [==============================] - 23s - loss: 0.5282 - val_loss: 0.5293\n",
      "Epoch 46/100\n",
      "700/700 [==============================] - 23s - loss: 0.5282 - val_loss: 0.5293\n",
      "Epoch 47/100\n",
      "700/700 [==============================] - 23s - loss: 0.5283 - val_loss: 0.5293\n",
      "Epoch 48/100\n",
      "700/700 [==============================] - 23s - loss: 0.5282 - val_loss: 0.5294\n",
      "Epoch 49/100\n",
      "700/700 [==============================] - 23s - loss: 0.5282 - val_loss: 0.5294\n",
      "Epoch 50/100\n",
      "700/700 [==============================] - 23s - loss: 0.5282 - val_loss: 0.5294\n",
      "Epoch 51/100\n",
      "700/700 [==============================] - 23s - loss: 0.5282 - val_loss: 0.5294\n",
      "Epoch 52/100\n",
      "700/700 [==============================] - 23s - loss: 0.5282 - val_loss: 0.5294\n",
      "Epoch 53/100\n",
      "700/700 [==============================] - 23s - loss: 0.5282 - val_loss: 0.5294\n",
      "Epoch 54/100\n",
      "700/700 [==============================] - 23s - loss: 0.5282 - val_loss: 0.5294\n",
      "Epoch 55/100\n",
      "700/700 [==============================] - 23s - loss: 0.5282 - val_loss: 0.5293\n",
      "Epoch 56/100\n",
      "700/700 [==============================] - 23s - loss: 0.5282 - val_loss: 0.5294\n",
      "Epoch 57/100\n",
      "700/700 [==============================] - 23s - loss: 0.5282 - val_loss: 0.5294\n",
      "Epoch 58/100\n",
      "700/700 [==============================] - 23s - loss: 0.5282 - val_loss: 0.5294\n",
      "Epoch 59/100\n",
      "700/700 [==============================] - 23s - loss: 0.5282 - val_loss: 0.5294\n",
      "Epoch 60/100\n",
      "700/700 [==============================] - 23s - loss: 0.5282 - val_loss: 0.5294\n",
      "Epoch 61/100\n",
      "700/700 [==============================] - 23s - loss: 0.5282 - val_loss: 0.5294\n",
      "Epoch 62/100\n",
      "700/700 [==============================] - 23s - loss: 0.5282 - val_loss: 0.5294\n",
      "Epoch 63/100\n",
      "700/700 [==============================] - 23s - loss: 0.5282 - val_loss: 0.5294\n",
      "Epoch 64/100\n",
      "700/700 [==============================] - 23s - loss: 0.5282 - val_loss: 0.5293\n",
      "Epoch 65/100\n",
      "700/700 [==============================] - 23s - loss: 0.5282 - val_loss: 0.5294\n",
      "Epoch 66/100\n",
      "700/700 [==============================] - 23s - loss: 0.5282 - val_loss: 0.5294\n",
      "Epoch 67/100\n",
      "700/700 [==============================] - 23s - loss: 0.5282 - val_loss: 0.5294\n",
      "Epoch 68/100\n",
      "700/700 [==============================] - 23s - loss: 0.5282 - val_loss: 0.5293\n",
      "Epoch 69/100\n",
      "700/700 [==============================] - 23s - loss: 0.5282 - val_loss: 0.5294\n",
      "Epoch 70/100\n",
      "700/700 [==============================] - 23s - loss: 0.5282 - val_loss: 0.5294\n",
      "Epoch 71/100\n",
      "700/700 [==============================] - 23s - loss: 0.5282 - val_loss: 0.5294\n",
      "Epoch 72/100\n",
      "700/700 [==============================] - 23s - loss: 0.5282 - val_loss: 0.5294\n",
      "Epoch 73/100\n",
      "700/700 [==============================] - 23s - loss: 0.5282 - val_loss: 0.5294\n",
      "Epoch 74/100\n",
      "700/700 [==============================] - 23s - loss: 0.5282 - val_loss: 0.5294\n",
      "Epoch 75/100\n",
      "700/700 [==============================] - 23s - loss: 0.5281 - val_loss: 0.5293\n",
      "Epoch 76/100\n",
      "700/700 [==============================] - 23s - loss: 0.5281 - val_loss: 0.5294\n",
      "Epoch 77/100\n",
      "700/700 [==============================] - 23s - loss: 0.5281 - val_loss: 0.5294\n",
      "Epoch 78/100\n",
      "700/700 [==============================] - 23s - loss: 0.5281 - val_loss: 0.5293\n",
      "Epoch 79/100\n",
      "700/700 [==============================] - 23s - loss: 0.5281 - val_loss: 0.5294\n",
      "Epoch 80/100\n",
      "700/700 [==============================] - 23s - loss: 0.5281 - val_loss: 0.5294\n",
      "Epoch 81/100\n",
      "700/700 [==============================] - 23s - loss: 0.5281 - val_loss: 0.5294\n",
      "Epoch 82/100\n",
      "700/700 [==============================] - 23s - loss: 0.5281 - val_loss: 0.5294\n",
      "Epoch 83/100\n",
      "700/700 [==============================] - 23s - loss: 0.5281 - val_loss: 0.5293\n",
      "Epoch 84/100\n",
      "700/700 [==============================] - 23s - loss: 0.5281 - val_loss: 0.5294\n",
      "Epoch 85/100\n",
      "700/700 [==============================] - 23s - loss: 0.5281 - val_loss: 0.5294\n",
      "Epoch 86/100\n",
      "700/700 [==============================] - 23s - loss: 0.5281 - val_loss: 0.5294\n",
      "Epoch 87/100\n",
      "700/700 [==============================] - 23s - loss: 0.5281 - val_loss: 0.5293\n",
      "Epoch 88/100\n",
      "700/700 [==============================] - 23s - loss: 0.5281 - val_loss: 0.5293\n",
      "Epoch 89/100\n",
      "700/700 [==============================] - 23s - loss: 0.5281 - val_loss: 0.5294\n",
      "Epoch 90/100\n",
      "700/700 [==============================] - 23s - loss: 0.5281 - val_loss: 0.5294\n",
      "Epoch 91/100\n",
      "700/700 [==============================] - 23s - loss: 0.5281 - val_loss: 0.5293\n",
      "Epoch 92/100\n",
      "700/700 [==============================] - 23s - loss: 0.5281 - val_loss: 0.5294\n",
      "Epoch 93/100\n",
      "700/700 [==============================] - 23s - loss: 0.5281 - val_loss: 0.5294\n",
      "Epoch 94/100\n",
      "700/700 [==============================] - 23s - loss: 0.5281 - val_loss: 0.5293\n",
      "Epoch 95/100\n",
      "700/700 [==============================] - 23s - loss: 0.5281 - val_loss: 0.5294\n",
      "Epoch 96/100\n",
      "700/700 [==============================] - 23s - loss: 0.5281 - val_loss: 0.5293\n",
      "Epoch 97/100\n",
      "700/700 [==============================] - 23s - loss: 0.5281 - val_loss: 0.5294\n",
      "Epoch 98/100\n",
      "700/700 [==============================] - 23s - loss: 0.5281 - val_loss: 0.5293\n",
      "Epoch 99/100\n",
      "700/700 [==============================] - 23s - loss: 0.5281 - val_loss: 0.5293\n",
      "Epoch 100/100\n",
      "700/700 [==============================] - 23s - loss: 0.5281 - val_loss: 0.5293\n"
     ]
    },
    {
     "data": {
      "text/plain": [
       "<keras.callbacks.History at 0x7f264b94ff50>"
      ]
     },
     "execution_count": 12,
     "metadata": {},
     "output_type": "execute_result"
    }
   ],
   "source": [
    "input_img = Input(shape=(X_train.shape[1],))\n",
    "encoded = Dense(8000, activation='relu')(input_img)\n",
    "encoded = Dense(2000, activation='relu')(encoded)\n",
    "encoded = Dense(500, activation='relu')(encoded)\n",
    "\n",
    "decoded = Dense(2000, activation='relu')(encoded)\n",
    "decoded = Dense(8000, activation='relu')(decoded)\n",
    "decoded = Dense(X_train.shape[1], activation='sigmoid')(decoded)\n",
    "\n",
    "autoencoder = Model(input=input_img, output=decoded)\n",
    "autoencoder.compile(optimizer='adadelta', loss='binary_crossentropy')\n",
    "\n",
    "autoencoder.fit(X_train.values,X_train.values,\n",
    "                verbose=1,\n",
    "                nb_epoch=100,\n",
    "                batch_size=256,\n",
    "                shuffle=True,\n",
    "                validation_data=(X_test.values, X_test.values))"
   ]
  },
  {
   "cell_type": "code",
   "execution_count": null,
   "metadata": {
    "collapsed": true
   },
   "outputs": [],
   "source": []
  },
  {
   "cell_type": "code",
   "execution_count": null,
   "metadata": {
    "collapsed": true
   },
   "outputs": [],
   "source": []
  },
  {
   "cell_type": "code",
   "execution_count": null,
   "metadata": {
    "collapsed": true
   },
   "outputs": [],
   "source": []
  },
  {
   "cell_type": "markdown",
   "metadata": {},
   "source": [
    "# Use Keras to build the Nets\n",
    "[None,28329]->[None,1000]->[None,500]->[None,2]"
   ]
  },
  {
   "cell_type": "code",
   "execution_count": null,
   "metadata": {
    "collapsed": false
   },
   "outputs": [],
   "source": [
    "model = Sequential()\n",
    "model.add(Dense(1000, input_dim=X_train.shape[1],weights=[np.zeros((X_train.shape[1],1000)),np.zeros((1000,))]))\n",
    "model.add(Activation('sigmoid'))\n",
    "model.add(Dropout(0.7))\n",
    "model.add(Dense(500,input_dim=1000,weights=[np.zeros((1000,500)),np.zeros((500,))]))\n",
    "model.add(Activation('sigmoid'))\n",
    "model.add(Dropout(0.7))\n",
    "model.add(Dense(2,input_dim=500,weights=[np.zeros((500,2)),np.zeros((2,))]))\n",
    "model.add(Activation('softmax'))\n",
    "model.compile(loss='categorical_crossentropy',\n",
    "              optimizer=keras.optimizers.SGD(lr=0.01, momentum=0.9, decay=0.0, nesterov=False),\n",
    "              metrics=['accuracy'])"
   ]
  },
  {
   "cell_type": "code",
   "execution_count": null,
   "metadata": {
    "collapsed": false
   },
   "outputs": [],
   "source": [
    "model.fit(X_train.values,y_train,batch_size=100,nb_epoch=50,verbose=1,validation_split=0.2)"
   ]
  },
  {
   "cell_type": "code",
   "execution_count": null,
   "metadata": {
    "collapsed": true
   },
   "outputs": [],
   "source": [
    "\n",
    "encoding_dim=5000\n",
    "input_img = Input(shape=(X_train.shape[1],))\n",
    "\n",
    "encoded = Dense(encoding_dim, activation='relu')(input_img)\n",
    "\n",
    "decoded = Dense(X_train.shape[1], activation='sigmoid')(encoded)\n",
    "\n",
    "\n",
    "autoencoder = Model(input=input_img, output=decoded)\n",
    "\n",
    "autoencoder.compile(optimizer='adadelta', loss='binary_crossentropy')\n",
    "autoencoder.fit(X_train.values, X_train.values,verbose=1,\n",
    "                nb_epoch=50,\n",
    "                batch_size=100,\n",
    "                shuffle=True,    \n",
    "                validation_data=(X_test.values,X_test.values))"
   ]
  },
  {
   "cell_type": "code",
   "execution_count": null,
   "metadata": {
    "collapsed": false
   },
   "outputs": [],
   "source": [
    "\n"
   ]
  },
  {
   "cell_type": "code",
   "execution_count": null,
   "metadata": {
    "collapsed": true
   },
   "outputs": [],
   "source": [
    "ls"
   ]
  },
  {
   "cell_type": "code",
   "execution_count": null,
   "metadata": {
    "collapsed": true
   },
   "outputs": [],
   "source": []
  }
 ],
 "metadata": {
  "kernelspec": {
   "display_name": "Python 2",
   "language": "python",
   "name": "python2"
  },
  "language_info": {
   "codemirror_mode": {
    "name": "ipython",
    "version": 2
   },
   "file_extension": ".py",
   "mimetype": "text/x-python",
   "name": "python",
   "nbconvert_exporter": "python",
   "pygments_lexer": "ipython2",
   "version": "2.7.12"
  }
 },
 "nbformat": 4,
 "nbformat_minor": 0
}
